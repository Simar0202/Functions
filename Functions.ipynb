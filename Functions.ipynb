{
  "nbformat": 4,
  "nbformat_minor": 0,
  "metadata": {
    "colab": {
      "provenance": []
    },
    "kernelspec": {
      "name": "python3",
      "display_name": "Python 3"
    },
    "language_info": {
      "name": "python"
    }
  },
  "cells": [
    {
      "cell_type": "markdown",
      "source": [
        "# 1. What is the difference between a function and a method in Python?\n",
        "\n",
        "Function -\n",
        "- A block of reusable code that is defined with def or lambda.\n",
        "- Called directly by its name.\n",
        "- No special parameter is required.\n",
        "- Function is independent and doesnot belongs to any class or object.\n",
        "\n",
        "Method -\n",
        "- A function that is defined inside a class.\n",
        "- Called on an object(object.method_name()).\n",
        "- Self is used as special parameter which refers to the current object.\n",
        "- Belongs to a class and works on its objects.\n",
        "\n",
        "```python\n",
        "# Function definition\n",
        "def add(a, b):\n",
        "    return a + b\n",
        "\n",
        "# Calling function directly\n",
        "print(add(5, 3))   # Output: 8\n",
        "```\n",
        "```python\n",
        "# method\n",
        "name = \"Simar\"\n",
        "print(name.lower()) # Output: simar\n",
        "```\n",
        "\n"
      ],
      "metadata": {
        "id": "3M-xSll9tjfS"
      }
    },
    {
      "cell_type": "markdown",
      "source": [
        "# 2. Explain the concept of function arguments and parameters in Python.\n",
        "Parameter -\n",
        "\n",
        "- Parameters are variable names that we write inside a fucntion variable.\n",
        "- These are the placeholders for the value we will provide later in the code.\n",
        "\n",
        "Arguments -\n",
        "\n",
        "- Argument is the actual value which is passed when calling a function.\n",
        "- They get assigned to the parameters.\n",
        "```python\n",
        "\n",
        "# adding two numbers using function\n",
        "\n",
        "def add_two_numbers(a,b):   # a,b are parameters\n",
        "    return a + b\n",
        "\n",
        "print(add_two_numbers(1,2)) # 1,2 are arguments\n",
        "```\n",
        "```python\n",
        "# square of a number using function\n",
        "\n",
        "def square_of_number(number):  # number is parameter\n",
        "    return number**2\n",
        "print(square_of_number(25))    # 25 is argument\n",
        "```"
      ],
      "metadata": {
        "id": "Q5q__DGXzzyy"
      }
    },
    {
      "cell_type": "markdown",
      "source": [
        "# 3. What are the different ways to define and call a function in Python?\n",
        "- Function with no parameters\n",
        "```python\n",
        "def greetings():\n",
        "    print(\"hello...how you doing???\")\n",
        "\n",
        "greetings()   # calling without the arguments\n",
        "```\n",
        "- Function with parameters\n",
        "```python\n",
        "def greetings(name):\n",
        "    print(f\"hello...how you doing {name}???\")\n",
        "\n",
        "greetings(\"simar\")   # calling by passing the argument\n",
        "```\n",
        "- Function with default parameters\n",
        "```python\n",
        "def greetings(name=\"stefan\"):\n",
        "    print(f\"hello...how you doing {name}???\")\n",
        "greetings()     # hello...how you doing stefan???\n",
        "greetings(\"simar\") # hello...how you doing simar???\n",
        "```\n",
        "- Function with keyword arguments\n",
        "```python\n",
        "def intro(name,age):\n",
        "    print(f\"My name is {name} and i am {age} years old\")\n",
        "    \n",
        "intro(name=\"elena\",age=22)\n",
        "```\n",
        "- Function with *args(Variable-Length Positional Arguments)\n",
        "```python\n",
        "def add(*args):\n",
        "    return sum(args)\n",
        "print(add(1,2,3))\n",
        "```\n",
        "- Function with Variable-Length Keyword Arguments (**kwargs)\n",
        "```python\n",
        "def student_info(**kwargs):\n",
        "    print(kwargs)\n",
        "student_info(name=\"simar\",age=20) # {'name': 'simar', 'age': 20}\n",
        "```\n",
        "- Lambda Function\n",
        "```python\n",
        "square = lambda x: x * x\n",
        "print(square(5))   # Output: 25\n",
        "```\n"
      ],
      "metadata": {
        "id": "lM_taFtb2lLO"
      }
    },
    {
      "cell_type": "markdown",
      "source": [
        "# 4. What is the purpose of the `return` statement in a Python function?\n",
        "Return statement stops the function and sends back the value of the expression to the place where the function is called.\n",
        "\n",
        "Any statement after the return statment is not executed at all.\n",
        "\n",
        "If return is used without any value, then None is returned.\n",
        "```python\n",
        "# example 1\n",
        "# adding two number\n",
        "def add_two_numbers(num1,num2):\n",
        "    return num1+num2\n",
        "print(add_two_numbers(2,3))\n",
        "\n",
        "# example 2\n",
        "# returning name and age\n",
        "def returning_info(name,age):\n",
        "    return name,age\n",
        "print(returning_info(\"simar\",22))\n",
        "```"
      ],
      "metadata": {
        "id": "JoIOcOOi786G"
      }
    },
    {
      "cell_type": "markdown",
      "source": [
        "# 5. What are iterators in Python and how do they differ from iterables?\n",
        "\n",
        "Iterable -\n",
        "- Iterable is a python object that return its elements one by one.\n",
        "- These elements are accessed one by one by using the for loop which iterates over each elements and gives the value one by one.\n",
        "- Examples: set,tuple,list,dictionary.\n",
        "```python\n",
        "x = [1,2,3,4,5]\n",
        "for i in x:       # list is iterable\n",
        "    print(i)\n",
        "    \n",
        "y = (1,2,3,5)\n",
        "for i in y:       # tuple is iterable\n",
        "    print(i)\n",
        "```\n",
        "Iterator -\n",
        "- Iterator is a object that keeps the track of the iteration.\n",
        "- It is created when you call iter() on a iterable.\n",
        "- There are two methods used in iterator\n",
        "    - __iter__() - creates an iterator\n",
        "    - __next__() - returns the next element\n",
        "\n",
        "```python\n",
        "x = [1,2,3,4,5]\n",
        "a = iter(x)   # create an iterator\n",
        "print(next(a))\n",
        "print(next(a))\n",
        "print(next(a))\n",
        "print(next(a))\n",
        "print(next(a))\n",
        "```"
      ],
      "metadata": {
        "id": "aNjLBmXJHux_"
      }
    },
    {
      "cell_type": "markdown",
      "source": [
        "# 6. Explain the concept of generators in Python and how they are defined.\n",
        "\n",
        "Generators -\n",
        "- Generator Function is a special type of function that gives the value one at a time instead of giving them all at once.\n",
        "\n",
        "- Since value is produced one by one, execution time is  more than a regular function.\n",
        "\n",
        "- Used for large data or infinite sequences.\n",
        "\n",
        "Defining Generators -\n",
        "\n",
        "In case of regular function return statment is used(which stops the function).\n",
        "But in Gnerators yeild is used(pauses function and return a value).\n",
        "```python\n",
        "def fibonacci(n):\n",
        "    a, b = 0, 1\n",
        "    for _ in range(n):\n",
        "        yield a   # pause and return a\n",
        "        a, b = b, a + b\n",
        "\n",
        "# create generator\n",
        "fib = fibonacci(5)\n",
        "\n",
        "for num in fib:\n",
        "    print(num)\n",
        "```\n",
        "```python\n",
        "def my_generator():\n",
        "    yield 1\n",
        "    yield 2\n",
        "    yield 3\n",
        "\n",
        "gen = my_generator()\n",
        "\n",
        "print(next(gen))  # 1\n",
        "print(next(gen))  # 2\n",
        "print(next(gen))  # 3\n",
        "```\n"
      ],
      "metadata": {
        "id": "B2lLuk8wKbKQ"
      }
    },
    {
      "cell_type": "markdown",
      "source": [
        "# 7. What are the advantages of using generators over regular functions?\n",
        "\n",
        "- Regular functions are less memory efficient because they store the value at one in the memory, whereas generators produce the value one by one, which makes it more memory efficient.\n",
        "\n",
        "- In the Regular function, the code runs completely and stops at the return statement, whereas yield makes the code pause and return the value.\n",
        "\n",
        "- Generators are efficient for large data, whereas regular functions are not.\n",
        "\n",
        "- Regular functions cannot handle large sequences, whereas generators can handle them.\n",
        "\n",
        "```python\n",
        "def square_of_number(n):\n",
        "    my_list = []\n",
        "    for i in range(n):\n",
        "        i = i**2\n",
        "        my_list.append(i)\n",
        "    return my_list\n",
        "\n",
        "print(square_of_number(5))  # [0, 1, 4, 9, 16]\n",
        "\n",
        "def squares_gen(n):\n",
        "    for i in range(n):\n",
        "        yield i*i\n",
        "\n",
        "for val in squares_gen(5):\n",
        "    print(val)\n",
        "  ```"
      ],
      "metadata": {
        "id": "e2fDOXIyNbES"
      }
    },
    {
      "cell_type": "markdown",
      "source": [
        "# 8. What is a lambda function in Python and when is it typically used?\n",
        "Lambda function in python is a small anonymous function that is defined using the lambda keyword.\n",
        "\n",
        "They are used for creating small, throwaway functions without the need to formally define a function using def.\n",
        "\n",
        "Syntax:\n",
        "\n",
        "lambda arguments: expression\n",
        "\n",
        "Here the lambda function can take any number of agruments but it can only contain one expression.\n",
        "```python\n",
        "square_of_number = lambda x: x*x\n",
        "print(square_of_number(25))\n",
        "```\n",
        "When it is typically used?\n",
        "- when you need a short throwaway function without the need to define the function using def.\n",
        "- As arguments to functions like map(), filter(), reduce().\n",
        "- can be defined in a single line.\n",
        "- doesnot contain multiple statements or expressions.\n",
        "```python\n",
        "# with map()\n",
        "l = [1,2,3,4,5]\n",
        "\n",
        "print(list(map(lambda x: x**2,l)))\n",
        "```\n",
        "```python\n",
        "# with filter\n",
        "l = [1,2,4,8]\n",
        "print(list(filter(lambda x: x%2==0,l)))\n",
        "```\n",
        "```python\n",
        "# with reduce\n",
        "from functools import reduce  \n",
        "l = [1,2,3,4,4,5]\n",
        "result = reduce(lambda x,y: x if x>y else y,l)\n",
        "print(result)\n",
        "```\n",
        "\n",
        "\n",
        ""
      ],
      "metadata": {
        "id": "2aNii_PgQuah"
      }
    },
    {
      "cell_type": "markdown",
      "source": [
        "# 9. Explain the purpose and usage of the `map()` function in Python?\n",
        "The map function applies a given function to all items in an input iterable (like a list) and returns an iterator with the results.\n",
        "\n",
        "Used to transform each item in an iterable by applying the specified function.\n",
        "\n",
        "Syntax:\n",
        "\n",
        "map(function, iterable)\n",
        "\n",
        "Purpose of map() function in Python:\n",
        "- when you want to apply a specific function to all the elements of an iterable without using the for loop.\n",
        "- Often used in data processing, transformations, and mathematical operations.\n",
        "- Preprocessing or cleaning data in bulk, e.g., converting strings to uppercase.\n",
        "\n",
        "``` python\n",
        "# example 1\n",
        "l = [1,2,3,4,5]\n",
        "# squaring each element of the list\n",
        "print(list(map(lambda x: x**2,l))) # [1, 4, 9, 16, 25]\n",
        "\n",
        "# example 2\n",
        "# adding 10 to every element of the list\n",
        "print(list(map(lambda x: x+10,l)))  # [11, 12, 13, 14, 15]\n",
        "\n",
        "# example 3\n",
        "l1 = [\"1\",\"2\",\"3\"]\n",
        "\n",
        "print(list(map(lambda x: int(x), l1))) #[1, 2, 3]\n",
        "```"
      ],
      "metadata": {
        "id": "_kRg1fOUc8pA"
      }
    },
    {
      "cell_type": "markdown",
      "source": [
        "# 10. What is the difference between `map()`, `reduce()`, and `filter()` functions in Python?\n",
        "map() -\n",
        "- transform each element of an iterable\n",
        "- returns a new iterable with the same number of elements\n",
        "- It returns a transformed value\n",
        "```python\n",
        "numbers = [1, 2, 3, 4]\n",
        "squares = list(map(lambda x: x**2, numbers))\n",
        "print(squares)  # [1, 4, 9, 16]\n",
        "```\n",
        "reduce() -\n",
        "- reduce the iterable into a single value by applying a specific condition\n",
        "- A single value is returned as the result not the list.\n",
        "- takes two arguments and return one value.\n",
        "```python\n",
        "from functools import reduce\n",
        "\n",
        "numbers = [1, 2, 3, 4]\n",
        "total = reduce(lambda x, y: x + y, numbers)\n",
        "print(total)  # 10\n",
        "```\n",
        "filter() -\n",
        "- filter the iterable based on some specific condition.\n",
        "- returns a new iterable with values that satisfy the given condition.\n",
        "```python\n",
        "numbers = [1, 2, 3, 4, 5, 6]\n",
        "evens = list(filter(lambda x: x % 2 == 0, numbers))\n",
        "print(evens)  # [2, 4, 6]\n",
        "```\n",
        "\n"
      ],
      "metadata": {
        "id": "-zPDOotTf-FA"
      }
    },
    {
      "cell_type": "markdown",
      "source": [
        "![](content/WhatsApp%20Image%202025-08-28%20at%2012.54.09%20PM%20(2).jpeg)\n"
      ],
      "metadata": {
        "id": "e7BH7GC2-D8z"
      }
    },
    {
      "cell_type": "code",
      "source": [
        "# Using pen & Paper write the internal mechanism for sum operation using  reduce function on this given list:[47,11,42,13]\n",
        "from google.colab import files\n",
        "uploaded = files.upload()\n",
        "from IPython.display import Image, display\n",
        "display(Image(filename=\"/content/WhatsApp Image 2025-08-28 at 12.54.09 PM.jpeg\"))\n"
      ],
      "metadata": {
        "colab": {
          "base_uri": "https://localhost:8080/",
          "height": 1000
        },
        "id": "xaxFHY1Y-zY0",
        "outputId": "0a4f47aa-21ee-478e-bdd7-f0d887637fc8"
      },
      "execution_count": 11,
      "outputs": [
        {
          "output_type": "display_data",
          "data": {
            "text/plain": [
              "<IPython.core.display.HTML object>"
            ],
            "text/html": [
              "\n",
              "     <input type=\"file\" id=\"files-f4f93bd3-9cba-43d7-901e-21d2679b6a93\" name=\"files[]\" multiple disabled\n",
              "        style=\"border:none\" />\n",
              "     <output id=\"result-f4f93bd3-9cba-43d7-901e-21d2679b6a93\">\n",
              "      Upload widget is only available when the cell has been executed in the\n",
              "      current browser session. Please rerun this cell to enable.\n",
              "      </output>\n",
              "      <script>// Copyright 2017 Google LLC\n",
              "//\n",
              "// Licensed under the Apache License, Version 2.0 (the \"License\");\n",
              "// you may not use this file except in compliance with the License.\n",
              "// You may obtain a copy of the License at\n",
              "//\n",
              "//      http://www.apache.org/licenses/LICENSE-2.0\n",
              "//\n",
              "// Unless required by applicable law or agreed to in writing, software\n",
              "// distributed under the License is distributed on an \"AS IS\" BASIS,\n",
              "// WITHOUT WARRANTIES OR CONDITIONS OF ANY KIND, either express or implied.\n",
              "// See the License for the specific language governing permissions and\n",
              "// limitations under the License.\n",
              "\n",
              "/**\n",
              " * @fileoverview Helpers for google.colab Python module.\n",
              " */\n",
              "(function(scope) {\n",
              "function span(text, styleAttributes = {}) {\n",
              "  const element = document.createElement('span');\n",
              "  element.textContent = text;\n",
              "  for (const key of Object.keys(styleAttributes)) {\n",
              "    element.style[key] = styleAttributes[key];\n",
              "  }\n",
              "  return element;\n",
              "}\n",
              "\n",
              "// Max number of bytes which will be uploaded at a time.\n",
              "const MAX_PAYLOAD_SIZE = 100 * 1024;\n",
              "\n",
              "function _uploadFiles(inputId, outputId) {\n",
              "  const steps = uploadFilesStep(inputId, outputId);\n",
              "  const outputElement = document.getElementById(outputId);\n",
              "  // Cache steps on the outputElement to make it available for the next call\n",
              "  // to uploadFilesContinue from Python.\n",
              "  outputElement.steps = steps;\n",
              "\n",
              "  return _uploadFilesContinue(outputId);\n",
              "}\n",
              "\n",
              "// This is roughly an async generator (not supported in the browser yet),\n",
              "// where there are multiple asynchronous steps and the Python side is going\n",
              "// to poll for completion of each step.\n",
              "// This uses a Promise to block the python side on completion of each step,\n",
              "// then passes the result of the previous step as the input to the next step.\n",
              "function _uploadFilesContinue(outputId) {\n",
              "  const outputElement = document.getElementById(outputId);\n",
              "  const steps = outputElement.steps;\n",
              "\n",
              "  const next = steps.next(outputElement.lastPromiseValue);\n",
              "  return Promise.resolve(next.value.promise).then((value) => {\n",
              "    // Cache the last promise value to make it available to the next\n",
              "    // step of the generator.\n",
              "    outputElement.lastPromiseValue = value;\n",
              "    return next.value.response;\n",
              "  });\n",
              "}\n",
              "\n",
              "/**\n",
              " * Generator function which is called between each async step of the upload\n",
              " * process.\n",
              " * @param {string} inputId Element ID of the input file picker element.\n",
              " * @param {string} outputId Element ID of the output display.\n",
              " * @return {!Iterable<!Object>} Iterable of next steps.\n",
              " */\n",
              "function* uploadFilesStep(inputId, outputId) {\n",
              "  const inputElement = document.getElementById(inputId);\n",
              "  inputElement.disabled = false;\n",
              "\n",
              "  const outputElement = document.getElementById(outputId);\n",
              "  outputElement.innerHTML = '';\n",
              "\n",
              "  const pickedPromise = new Promise((resolve) => {\n",
              "    inputElement.addEventListener('change', (e) => {\n",
              "      resolve(e.target.files);\n",
              "    });\n",
              "  });\n",
              "\n",
              "  const cancel = document.createElement('button');\n",
              "  inputElement.parentElement.appendChild(cancel);\n",
              "  cancel.textContent = 'Cancel upload';\n",
              "  const cancelPromise = new Promise((resolve) => {\n",
              "    cancel.onclick = () => {\n",
              "      resolve(null);\n",
              "    };\n",
              "  });\n",
              "\n",
              "  // Wait for the user to pick the files.\n",
              "  const files = yield {\n",
              "    promise: Promise.race([pickedPromise, cancelPromise]),\n",
              "    response: {\n",
              "      action: 'starting',\n",
              "    }\n",
              "  };\n",
              "\n",
              "  cancel.remove();\n",
              "\n",
              "  // Disable the input element since further picks are not allowed.\n",
              "  inputElement.disabled = true;\n",
              "\n",
              "  if (!files) {\n",
              "    return {\n",
              "      response: {\n",
              "        action: 'complete',\n",
              "      }\n",
              "    };\n",
              "  }\n",
              "\n",
              "  for (const file of files) {\n",
              "    const li = document.createElement('li');\n",
              "    li.append(span(file.name, {fontWeight: 'bold'}));\n",
              "    li.append(span(\n",
              "        `(${file.type || 'n/a'}) - ${file.size} bytes, ` +\n",
              "        `last modified: ${\n",
              "            file.lastModifiedDate ? file.lastModifiedDate.toLocaleDateString() :\n",
              "                                    'n/a'} - `));\n",
              "    const percent = span('0% done');\n",
              "    li.appendChild(percent);\n",
              "\n",
              "    outputElement.appendChild(li);\n",
              "\n",
              "    const fileDataPromise = new Promise((resolve) => {\n",
              "      const reader = new FileReader();\n",
              "      reader.onload = (e) => {\n",
              "        resolve(e.target.result);\n",
              "      };\n",
              "      reader.readAsArrayBuffer(file);\n",
              "    });\n",
              "    // Wait for the data to be ready.\n",
              "    let fileData = yield {\n",
              "      promise: fileDataPromise,\n",
              "      response: {\n",
              "        action: 'continue',\n",
              "      }\n",
              "    };\n",
              "\n",
              "    // Use a chunked sending to avoid message size limits. See b/62115660.\n",
              "    let position = 0;\n",
              "    do {\n",
              "      const length = Math.min(fileData.byteLength - position, MAX_PAYLOAD_SIZE);\n",
              "      const chunk = new Uint8Array(fileData, position, length);\n",
              "      position += length;\n",
              "\n",
              "      const base64 = btoa(String.fromCharCode.apply(null, chunk));\n",
              "      yield {\n",
              "        response: {\n",
              "          action: 'append',\n",
              "          file: file.name,\n",
              "          data: base64,\n",
              "        },\n",
              "      };\n",
              "\n",
              "      let percentDone = fileData.byteLength === 0 ?\n",
              "          100 :\n",
              "          Math.round((position / fileData.byteLength) * 100);\n",
              "      percent.textContent = `${percentDone}% done`;\n",
              "\n",
              "    } while (position < fileData.byteLength);\n",
              "  }\n",
              "\n",
              "  // All done.\n",
              "  yield {\n",
              "    response: {\n",
              "      action: 'complete',\n",
              "    }\n",
              "  };\n",
              "}\n",
              "\n",
              "scope.google = scope.google || {};\n",
              "scope.google.colab = scope.google.colab || {};\n",
              "scope.google.colab._files = {\n",
              "  _uploadFiles,\n",
              "  _uploadFilesContinue,\n",
              "};\n",
              "})(self);\n",
              "</script> "
            ]
          },
          "metadata": {}
        },
        {
          "output_type": "stream",
          "name": "stdout",
          "text": [
            "Saving WhatsApp Image 2025-08-28 at 12.54.09 PM.jpeg to WhatsApp Image 2025-08-28 at 12.54.09 PM (1).jpeg\n"
          ]
        },
        {
          "output_type": "display_data",
          "data": {
            "image/jpeg": "[encoded data removed]",
            "text/plain": [
              "<IPython.core.display.Image object>"
            ]
          },
          "metadata": {}
        }
      ]
    },
    {
      "cell_type": "code",
      "source": [
        "# 1. Write a Python function that takes a list of numbers as input and returns the sum of all even numbers in the list.\n",
        "def sum_of_even_numbers(my_list):\n",
        "    new_list = []\n",
        "    for i in my_list:\n",
        "        if i%2 == 0:\n",
        "            new_list.append(i)\n",
        "    return sum(new_list)\n",
        "\n",
        "print(sum_of_even_numbers([1,2,3,4]))"
      ],
      "metadata": {
        "colab": {
          "base_uri": "https://localhost:8080/"
        },
        "id": "yihTDO8bRfh2",
        "outputId": "24893eb3-5c68-4f51-8c5e-4bd2db0cdad1"
      },
      "execution_count": null,
      "outputs": [
        {
          "output_type": "stream",
          "name": "stdout",
          "text": [
            "6\n"
          ]
        }
      ]
    },
    {
      "cell_type": "code",
      "source": [
        "# 2. Create a Python function that accepts a string and returns the reverse of that string?\n",
        "def reverse_string(my_string):\n",
        "    return my_string[::-1]\n",
        "\n",
        "print(reverse_string(\"simar\"))"
      ],
      "metadata": {
        "colab": {
          "base_uri": "https://localhost:8080/"
        },
        "id": "RGWHXAdmSdiG",
        "outputId": "4b651cea-f888-42bc-eb9a-a772c37edbcb"
      },
      "execution_count": null,
      "outputs": [
        {
          "output_type": "stream",
          "name": "stdout",
          "text": [
            "ramis\n"
          ]
        }
      ]
    },
    {
      "cell_type": "code",
      "source": [
        "# 3. Implement a Python function that takes a list of integers and returns a new list containing the squares of each number.\n",
        "\n",
        "def squares(my_list):\n",
        "    new_list = []\n",
        "    for i in my_list:\n",
        "        i = i*i\n",
        "        new_list.append(i)\n",
        "    return new_list\n",
        "print(squares([1,2,3,4,5]))\n"
      ],
      "metadata": {
        "colab": {
          "base_uri": "https://localhost:8080/"
        },
        "id": "O3O-E25hS_mB",
        "outputId": "c4ab5709-3e4b-4be4-bcd1-ec7c9d8ff01c"
      },
      "execution_count": null,
      "outputs": [
        {
          "output_type": "stream",
          "name": "stdout",
          "text": [
            "[1, 4, 9, 16, 25]\n"
          ]
        }
      ]
    },
    {
      "cell_type": "code",
      "source": [
        "# 4. Write a Python function that checks if a given number is prime or not from 1 to 200.\n",
        "import math\n",
        "\n",
        "def check_primes():\n",
        "    for num in range(2, 201):   # start from 2\n",
        "        is_prime = True\n",
        "\n",
        "        # check divisors only up to square root of the number\n",
        "        for i in range(2, int(math.sqrt(num)) + 1):\n",
        "            if num % i == 0:\n",
        "                is_prime = False\n",
        "                break   # stop early if divisor found\n",
        "\n",
        "        if is_prime:\n",
        "            print(f\"{num} is a prime number\")\n",
        "\n",
        "check_primes()\n"
      ],
      "metadata": {
        "colab": {
          "base_uri": "https://localhost:8080/"
        },
        "collapsed": true,
        "id": "S39O0VtVUH9Q",
        "outputId": "e4c48aba-c29c-40cc-ea91-4ded034237ce"
      },
      "execution_count": null,
      "outputs": [
        {
          "output_type": "stream",
          "name": "stdout",
          "text": [
            "2 is a prime number\n",
            "3 is a prime number\n",
            "5 is a prime number\n",
            "7 is a prime number\n",
            "11 is a prime number\n",
            "13 is a prime number\n",
            "17 is a prime number\n",
            "19 is a prime number\n",
            "23 is a prime number\n",
            "29 is a prime number\n",
            "31 is a prime number\n",
            "37 is a prime number\n",
            "41 is a prime number\n",
            "43 is a prime number\n",
            "47 is a prime number\n",
            "53 is a prime number\n",
            "59 is a prime number\n",
            "61 is a prime number\n",
            "67 is a prime number\n",
            "71 is a prime number\n",
            "73 is a prime number\n",
            "79 is a prime number\n",
            "83 is a prime number\n",
            "89 is a prime number\n",
            "97 is a prime number\n",
            "101 is a prime number\n",
            "103 is a prime number\n",
            "107 is a prime number\n",
            "109 is a prime number\n",
            "113 is a prime number\n",
            "127 is a prime number\n",
            "131 is a prime number\n",
            "137 is a prime number\n",
            "139 is a prime number\n",
            "149 is a prime number\n",
            "151 is a prime number\n",
            "157 is a prime number\n",
            "163 is a prime number\n",
            "167 is a prime number\n",
            "173 is a prime number\n",
            "179 is a prime number\n",
            "181 is a prime number\n",
            "191 is a prime number\n",
            "193 is a prime number\n",
            "197 is a prime number\n",
            "199 is a prime number\n"
          ]
        }
      ]
    },
    {
      "cell_type": "code",
      "source": [
        "# 5. Create an iterator class in Python that generates the Fibonacci sequence up to a specified number of terms.\n",
        "def fibonacci_generator(n_terms):\n",
        "\n",
        "    a, b = 0, 1  # Initialize the first two Fibonacci numbers\n",
        "    count = 0\n",
        "\n",
        "    while count < n_terms:\n",
        "        yield a  # Yield the current Fibonacci number\n",
        "        a, b = b, a + b  # Update to the next pair of Fibonacci numbers\n",
        "        count += 1\n",
        "\n",
        "fib_gen = fibonacci_generator(10)\n",
        "\n",
        "print(\"First 10 Fibonacci numbers:\")\n",
        "for num in fib_gen:\n",
        "    print(num, end=\" \")\n"
      ],
      "metadata": {
        "id": "rJ474G6edV8d",
        "colab": {
          "base_uri": "https://localhost:8080/"
        },
        "outputId": "f9ef9754-927d-4e14-b5dc-6d7952ac5b59"
      },
      "execution_count": 2,
      "outputs": [
        {
          "output_type": "stream",
          "name": "stdout",
          "text": [
            "First 10 Fibonacci numbers:\n",
            "0 1 1 2 3 5 8 13 21 34 "
          ]
        }
      ]
    },
    {
      "cell_type": "code",
      "source": [
        "# 6. Write a generator function in Python that yields the powers of 2 up to a given exponent.\n",
        "def power(n):\n",
        "  for i in range(n+1):\n",
        "    yield 2**i\n",
        "\n",
        "for i in power(5):\n",
        "  print(i)\n",
        "\n",
        "\n"
      ],
      "metadata": {
        "colab": {
          "base_uri": "https://localhost:8080/"
        },
        "id": "ePhvPjnBlG5l",
        "outputId": "7729fef9-cf06-45af-889f-6a9e861b1bc3"
      },
      "execution_count": null,
      "outputs": [
        {
          "output_type": "stream",
          "name": "stdout",
          "text": [
            "1\n",
            "2\n",
            "4\n",
            "8\n",
            "16\n",
            "32\n"
          ]
        }
      ]
    },
    {
      "cell_type": "code",
      "source": [
        "# 7. Implement a generator function that reads a file line by line and yields each line as a string.\n",
        "# first create the file\n",
        "\n",
        "with open(\"myfile.txt\",\"w\") as f:\n",
        "    f.write(\"Hello\\n\")\n",
        "    f.write(\"How are you??\\n\")\n",
        "    f.write(\"what are you doing??\\n\")\n",
        "    f.write(\"what is your name\\n\")\n",
        "    f.write(\"I hope you are doing good\\n\")\n",
        "\n",
        "\n",
        "def reading_the_lines(file_name):\n",
        "    with open(\"myfile.txt\",\"r\") as file:\n",
        "        for line in file:\n",
        "            yield line.strip()\n",
        "\n",
        "for line in reading_the_lines(\"myfile.txt\"):\n",
        "    print(line)\n"
      ],
      "metadata": {
        "colab": {
          "base_uri": "https://localhost:8080/"
        },
        "id": "E0PHzgKYyxGY",
        "outputId": "cd372114-0446-4ceb-dfb6-5fcb9b594e50"
      },
      "execution_count": null,
      "outputs": [
        {
          "output_type": "stream",
          "name": "stdout",
          "text": [
            "Hello\n",
            "How are you??\n",
            "what are you doing??\n",
            "what is your name\n",
            "I hope you are doing good\n"
          ]
        }
      ]
    },
    {
      "cell_type": "code",
      "source": [
        "# 8.  Use a lambda function in Python to sort a list of tuples based on the second element of each tuple.\n",
        "\n",
        "data = [(1, 5), (3, 1), (4, 7), (2, 3)]\n",
        "\n",
        "# sort using the second element\n",
        "sorted_data = sorted(data, key=lambda x: x[1])\n",
        "\n",
        "print(sorted_data)"
      ],
      "metadata": {
        "colab": {
          "base_uri": "https://localhost:8080/"
        },
        "id": "35QDgrEApGHB",
        "outputId": "937697ce-542d-400e-a5bd-92f5509bd6e9"
      },
      "execution_count": 8,
      "outputs": [
        {
          "output_type": "stream",
          "name": "stdout",
          "text": [
            "[(3, 1), (2, 3), (1, 5), (4, 7)]\n"
          ]
        }
      ]
    },
    {
      "cell_type": "code",
      "source": [
        "# 9. Write a Python program that uses `map()` to convert a list of temperatures from Celsius to Fahrenheit.\n",
        "celsius = [10,20,30,50]\n",
        "\n",
        "fahrenheit = list(map(lambda x: (9/5)*x +32,celsius))\n",
        "\n",
        "print(fahrenheit)\n",
        "\n"
      ],
      "metadata": {
        "colab": {
          "base_uri": "https://localhost:8080/"
        },
        "id": "o0DH8uappscM",
        "outputId": "826ba2e9-c84b-4374-d85e-7d459f4eb831"
      },
      "execution_count": 9,
      "outputs": [
        {
          "output_type": "stream",
          "name": "stdout",
          "text": [
            "[50.0, 68.0, 86.0, 122.0]\n"
          ]
        }
      ]
    },
    {
      "cell_type": "code",
      "source": [
        "# 10. Create a Python program that uses `filter()` to remove all the vowels from a given string.\n",
        "my_string = \"simar\"\n",
        "vowels = [\"a\",\"e\",\"i\",\"o\",\"u\"]\n",
        "result = list(filter(lambda x: x in vowels, my_string ))\n",
        "final_string = \"\".join(result)\n",
        "print(final_string)"
      ],
      "metadata": {
        "colab": {
          "base_uri": "https://localhost:8080/"
        },
        "id": "Pnu52h3BqeH1",
        "outputId": "d2adf6c2-c2e7-4ec7-c7bf-3fef45d80469"
      },
      "execution_count": 11,
      "outputs": [
        {
          "output_type": "stream",
          "name": "stdout",
          "text": [
            "ia\n"
          ]
        }
      ]
    },
    {
      "cell_type": "code",
      "source": [
        "# 11.\n",
        "# Sample data\n",
        "orders = [\n",
        "    [34587, \"Learning Python, Mark Lutz\", 4, 40.95],\n",
        "    [98762, \"Programming Python, Mark Lutz\", 5, 56.80],\n",
        "    [77226, \"Head First Python, Paul Barry\", 3, 32.95],\n",
        "    [88112, \"Einführung in Python3, Bernd Klein\", 3, 24.99]\n",
        "]\n",
        "\n",
        "# Process orders with lambda + map\n",
        "result = list(map(lambda order: (\n",
        "    order[0],                                # Order Number\n",
        "    order[2] * order[3] if order[2] * order[3] >= 100.00\n",
        "    else order[2] * order[3] + 10.00         # Add 10 if < 100.00\n",
        "), orders))\n",
        "\n",
        "print(result)"
      ],
      "metadata": {
        "colab": {
          "base_uri": "https://localhost:8080/"
        },
        "id": "chKxDtsEsRrX",
        "outputId": "fe2cef69-a2c9-4cbd-8287-822655eeaa28"
      },
      "execution_count": 1,
      "outputs": [
        {
          "output_type": "stream",
          "name": "stdout",
          "text": [
            "[(34587, 163.8), (98762, 284.0), (77226, 108.85000000000001), (88112, 84.97)]\n"
          ]
        }
      ]
    },
    {
      "cell_type": "code",
      "source": [],
      "metadata": {
        "id": "OScnRZ-1wqRQ"
      },
      "execution_count": null,
      "outputs": []
    }
  ]
}